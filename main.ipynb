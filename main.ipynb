{
 "cells": [
  {
   "cell_type": "code",
   "execution_count": null,
   "metadata": {},
   "outputs": [],
   "source": [
    "import numpy as np\n",
    "import pandas as pd\n",
    "import matplotlib.pyplot as plt\n",
    "import matplotlib as mpl\n",
    "from matplotlib.colors import Normalize\n",
    "import seaborn as sns\n",
    "from pathlib import Path"
   ]
  },
  {
   "cell_type": "markdown",
   "metadata": {},
   "source": [
    "---\n",
    "Files\n",
    "---"
   ]
  },
  {
   "cell_type": "code",
   "execution_count": null,
   "metadata": {},
   "outputs": [],
   "source": [
    "def clear_files():\n",
    "    folder = Path('./results/')\n",
    "    for f in folder.rglob('*'):\n",
    "        f.unlink()"
   ]
  },
  {
   "cell_type": "code",
   "execution_count": null,
   "metadata": {},
   "outputs": [],
   "source": [
    "clear_files()"
   ]
  },
  {
   "cell_type": "markdown",
   "metadata": {},
   "source": [
    "---\n",
    "Graphs\n",
    "---"
   ]
  },
  {
   "cell_type": "code",
   "execution_count": null,
   "metadata": {},
   "outputs": [],
   "source": [
    "timesteps = pd.read_csv('./results/timesteps.txt', header=None)\n",
    "n = len(timesteps)\n",
    "timesteps"
   ]
  },
  {
   "cell_type": "markdown",
   "metadata": {},
   "source": [
    "Total mass"
   ]
  },
  {
   "cell_type": "code",
   "execution_count": null,
   "metadata": {},
   "outputs": [],
   "source": [
    "for i in range(n):\n",
    "    mass_a = np.loadtxt(f'./results/mass_a{i}.txt', delimiter=',')\n",
    "    mass_b = np.loadtxt(f'./results/mass_b{i}.txt', delimiter=',')\n",
    "    fig, ax = plt.subplots()\n",
    "    sns.heatmap((mass_a + mass_b), ax=ax, vmax=0.001)\n",
    "    ax.set_title(f'Total mass. t={timesteps.loc[i][0]}')\n",
    "    print(timesteps.loc[i][0], (mass_a+mass_b).min(), (mass_a+mass_b).max(), (mass_a+mass_b).sum())"
   ]
  },
  {
   "cell_type": "markdown",
   "metadata": {},
   "source": [
    "Pressure"
   ]
  },
  {
   "cell_type": "code",
   "execution_count": null,
   "metadata": {},
   "outputs": [],
   "source": [
    "for i in range(n):\n",
    "    pressure = np.loadtxt(f'./results/pressure{i}.txt', delimiter=',')\n",
    "    fig, ax = plt.subplots()\n",
    "    sns.heatmap((pressure), ax=ax, vmax=0.05)\n",
    "    ax.set_title(f'Pressure. t={timesteps.loc[i][0]}')\n",
    "    print(timesteps.loc[i][0], pressure.min(), pressure.max())"
   ]
  },
  {
   "cell_type": "markdown",
   "metadata": {},
   "source": [
    "Inner energy A"
   ]
  },
  {
   "cell_type": "code",
   "execution_count": null,
   "metadata": {},
   "outputs": [],
   "source": [
    "for i in range(n):\n",
    "    nrj_a = np.loadtxt(f'./results/energy_a{i}.txt', delimiter=',')\n",
    "    fig, ax = plt.subplots()\n",
    "    sns.heatmap((nrj_a), ax=ax, vmin=0, vmax=4)\n",
    "    ax.set_title(f'Energy A. t={timesteps.loc[i][0]}')\n",
    "    print(timesteps.loc[i][0], nrj_a.min(), nrj_a.max())"
   ]
  },
  {
   "cell_type": "markdown",
   "metadata": {},
   "source": [
    "Energy W"
   ]
  },
  {
   "cell_type": "code",
   "execution_count": null,
   "metadata": {},
   "outputs": [],
   "source": [
    "for i in range(3):\n",
    "    w = np.loadtxt(f'./results/energy{i}.txt', delimiter=',')\n",
    "    fig, ax = plt.subplots()\n",
    "    sns.heatmap((w), ax=ax, vmax=0.20)\n",
    "    ax.set_title(f'Energy (W)\\nt={timesteps.loc[i][0]}')\n",
    "    print(timesteps.loc[i][0], w.min(), w.max(), w.sum())"
   ]
  },
  {
   "cell_type": "markdown",
   "metadata": {},
   "source": [
    "Vx"
   ]
  },
  {
   "cell_type": "code",
   "execution_count": null,
   "metadata": {},
   "outputs": [],
   "source": [
    "# for i in range(n):\n",
    "#     vx = np.loadtxt(f'./results/vx{i}.txt', delimiter=',')\n",
    "#     fig, ax = plt.subplots()\n",
    "#     sns.heatmap((vx), ax=ax, vmin=-3.0, vmax=3.0)\n",
    "#     ax.set_title(f'VX. t={timesteps.loc[i][0]}')\n",
    "#     print(timesteps.loc[i][0], vx.min(), vx.max())"
   ]
  },
  {
   "cell_type": "markdown",
   "metadata": {},
   "source": [
    "Vx_tilda"
   ]
  },
  {
   "cell_type": "code",
   "execution_count": null,
   "metadata": {},
   "outputs": [],
   "source": [
    "# for i in range(n):\n",
    "#     vx_tilda = np.loadtxt(f'./results/vx_tilda{i}.txt', delimiter=',')\n",
    "#     fig, ax = plt.subplots()\n",
    "#     sns.heatmap((vx_tilda), ax=ax, vmin=-3.0, vmax=3.0)\n",
    "#     ax.set_title(f'Vx_tilda. t={timesteps.loc[i][0]}')\n",
    "#     print(timesteps.loc[i][0], vx_tilda.min(), vx_tilda.max())"
   ]
  },
  {
   "cell_type": "markdown",
   "metadata": {},
   "source": [
    "Vy"
   ]
  },
  {
   "cell_type": "code",
   "execution_count": null,
   "metadata": {},
   "outputs": [],
   "source": [
    "# for i in range(n):\n",
    "#     vy = np.loadtxt(f'./results/vy{i}.txt', delimiter=',')\n",
    "#     fig, ax = plt.subplots()\n",
    "#     sns.heatmap((vy), ax=ax, vmin=-3.0, vmax=3.0)\n",
    "#     ax.set_title(f'VY. t={timesteps.loc[i][0]}')\n",
    "#     print(timesteps.loc[i][0], vy.min(), vy.max())"
   ]
  },
  {
   "cell_type": "markdown",
   "metadata": {},
   "source": [
    "---\n",
    "Creating animation\n",
    "---"
   ]
  },
  {
   "cell_type": "code",
   "execution_count": null,
   "metadata": {},
   "outputs": [],
   "source": [
    "import os\n",
    "import imageio"
   ]
  },
  {
   "cell_type": "markdown",
   "metadata": {},
   "source": [
    "### Total mass\n"
   ]
  },
  {
   "cell_type": "code",
   "execution_count": null,
   "metadata": {},
   "outputs": [],
   "source": [
    "for i in range(n):\n",
    "    mass_a = np.loadtxt(f'./results/mass_a{i}.txt', delimiter=',')\n",
    "    mass_b = np.loadtxt(f'./results/mass_b{i}.txt', delimiter=',')\n",
    "    fig, ax = plt.subplots()\n",
    "    sns.heatmap((mass_a + mass_b), ax=ax, vmax=0.001)\n",
    "    ax.set_title(f'Total mass\\nt={timesteps.loc[i][0]}')\n",
    "    plt.savefig(f'./graphics/mass_evolution_{i}.png')"
   ]
  },
  {
   "cell_type": "code",
   "execution_count": null,
   "metadata": {},
   "outputs": [],
   "source": [
    "image_dir = './graphics/'\n",
    "images = list()\n",
    "for i in range(n):\n",
    "    file_name = f'mass_evolution_{i}.png'\n",
    "    file_path = os.path.join(image_dir, file_name)\n",
    "    images.append(imageio.imread(file_path))\n",
    "\n",
    "# Make it pause at the end so that the viewers can ponder\n",
    "for _ in range(3):\n",
    "    images.append(imageio.imread(file_path))\n",
    "\n",
    "imageio.mimsave('./animations/mass_evolution.gif', images)"
   ]
  },
  {
   "cell_type": "markdown",
   "metadata": {},
   "source": [
    "### Energy W"
   ]
  },
  {
   "cell_type": "code",
   "execution_count": null,
   "metadata": {},
   "outputs": [],
   "source": [
    "for i in range(n):\n",
    "    w = np.loadtxt(f'./results/energy{i}.txt', delimiter=',')\n",
    "    fig, ax = plt.subplots()\n",
    "    sns.heatmap((w), ax=ax, vmax=0.20)\n",
    "    ax.set_title(f'Energy (W)\\nt={timesteps.loc[i][0]}')\n",
    "    plt.savefig(f'./graphics/energy_w_{i}.png')"
   ]
  },
  {
   "cell_type": "code",
   "execution_count": null,
   "metadata": {},
   "outputs": [],
   "source": [
    "image_dir = './graphics/'\n",
    "images = list()\n",
    "for i in range(n):\n",
    "    file_name = f'energy_w_{i}.png'\n",
    "    file_path = os.path.join(image_dir, file_name)\n",
    "    images.append(imageio.imread(file_path))\n",
    "\n",
    "# Make it pause at the end so that the viewers can ponder\n",
    "for _ in range(3):\n",
    "    images.append(imageio.imread(file_path))\n",
    "\n",
    "imageio.mimsave('./animations/energy_w_evolution.gif', images)"
   ]
  },
  {
   "cell_type": "markdown",
   "metadata": {},
   "source": [
    "### Pressure\n"
   ]
  },
  {
   "cell_type": "code",
   "execution_count": null,
   "metadata": {},
   "outputs": [],
   "source": [
    "for i in range(n):\n",
    "    pressure = np.loadtxt(f'./results/pressure{i}.txt', delimiter=',')\n",
    "    fig, ax = plt.subplots()\n",
    "    sns.heatmap((pressure), ax=ax, vmax=0.05)\n",
    "    ax.set_title(f'Pressure\\nt={timesteps.loc[i][0]}')\n",
    "    plt.savefig(f'./graphics/pressure{i}.png')"
   ]
  },
  {
   "cell_type": "code",
   "execution_count": null,
   "metadata": {},
   "outputs": [],
   "source": [
    "image_dir = './graphics/'\n",
    "images = list()\n",
    "for i in range(n):\n",
    "    file_name = f'pressure{i}.png'\n",
    "    file_path = os.path.join(image_dir, file_name)\n",
    "    images.append(imageio.imread(file_path))\n",
    "\n",
    "# Make it pause at the end so that the viewers can ponder\n",
    "for _ in range(3):\n",
    "    images.append(imageio.imread(file_path))\n",
    "\n",
    "imageio.mimsave('./animations/pressure.gif', images)"
   ]
  }
 ],
 "metadata": {
  "kernelspec": {
   "display_name": "base",
   "language": "python",
   "name": "python3"
  },
  "language_info": {
   "codemirror_mode": {
    "name": "ipython",
    "version": 3
   },
   "file_extension": ".py",
   "mimetype": "text/x-python",
   "name": "python",
   "nbconvert_exporter": "python",
   "pygments_lexer": "ipython3",
   "version": "3.9.18"
  }
 },
 "nbformat": 4,
 "nbformat_minor": 2
}
